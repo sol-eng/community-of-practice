{
 "cells": [
  {
   "cell_type": "markdown",
   "metadata": {},
   "source": [
    "# Exploratory Data Analysis with Databricks\n",
    "\n",
    "This example shows easily accessing data stored in Databricks using SQL Warehouses and all-purpose compute using credentials already provided in Workbench."
   ]
  },
  {
   "cell_type": "markdown",
   "metadata": {},
   "source": [
    "## Using SQL Warehouses"
   ]
  },
  {
   "cell_type": "code",
   "execution_count": 1,
   "metadata": {},
   "outputs": [],
   "source": [
    "from databricks.sdk.core import Config\n",
    "from databricks import sql\n",
    "import pandas as pd\n",
    "from dotenv import load_dotenv\n",
    "import os\n",
    "\n",
    "load_dotenv()\n",
    "\n",
    "config = Config(profile=\"workbench\")\n",
    "\n",
    "con = sql.connect(\n",
    "  server_hostname=config.host,\n",
    "  http_path=os.getenv(\"DATABRICKS_HTTP_PATH\"),\n",
    "  access_token=config.token\n",
    ")"
   ]
  },
  {
   "cell_type": "code",
   "execution_count": null,
   "metadata": {},
   "outputs": [],
   "source": [
    "query = \"\"\"\n",
    "        SELECT\n",
    "            `member_id`,\n",
    "            `zip_code`,\n",
    "            `sub_grade`,\n",
    "            `loan_amnt`,\n",
    "            `term`,\n",
    "            `int_rate`,\n",
    "            `emp_title`,\n",
    "            `emp_length`,\n",
    "            `annual_inc`,\n",
    "            `loan_status`,\n",
    "            `title`,\n",
    "            `out_prncp`\n",
    "        FROM `sol_eng_demo_nickp`.`default`.`lending_club`\n",
    "        WHERE\n",
    "            `zip_code` = '996xx'\n",
    "        ORDER BY sub_grade\n",
    "    \"\"\"\n",
    "\n",
    "df = pd.read_sql(\n",
    "    query,\n",
    "    con\n",
    ")\n",
    "df"
   ]
  },
  {
   "cell_type": "markdown",
   "metadata": {},
   "source": [
    "## Using Spark and All-Purpose Compute"
   ]
  },
  {
   "cell_type": "code",
   "execution_count": null,
   "metadata": {},
   "outputs": [],
   "source": [
    "from databricks.connect import DatabricksSession\n",
    "from databricks.sdk.core import Config\n",
    "import pandas as pd\n",
    "\n",
    "config = Config(\n",
    "    profile=\"workbench\",\n",
    "    cluster_id=\"0401-195338-1w0t2cgm\",\n",
    "    )\n",
    "\n",
    "config"
   ]
  },
  {
   "cell_type": "code",
   "execution_count": null,
   "metadata": {},
   "outputs": [],
   "source": [
    "spark = DatabricksSession.builder.sdkConfig(config).getOrCreate()\n",
    "spark\n"
   ]
  },
  {
   "cell_type": "code",
   "execution_count": null,
   "metadata": {},
   "outputs": [],
   "source": [
    "\n",
    "query = \"\"\"\n",
    "        SELECT\n",
    "            `member_id`,\n",
    "            `zip_code`,\n",
    "            `sub_grade`,\n",
    "            `loan_amnt`,\n",
    "            `term`,\n",
    "            `int_rate`,\n",
    "            `emp_title`,\n",
    "            `emp_length`,\n",
    "            `annual_inc`,\n",
    "            `loan_status`,\n",
    "            `title`,\n",
    "            `out_prncp`\n",
    "        FROM `sol_eng_demo_nickp`.`default`.`lending_club`\n",
    "        WHERE\n",
    "            `zip_code` = '996xx'\n",
    "        ORDER BY sub_grade\n",
    "    \"\"\"\n",
    "\n",
    "df = spark.sql(query).toPandas()\n",
    "df"
   ]
  }
 ],
 "metadata": {
  "kernelspec": {
   "display_name": ".venv",
   "language": "python",
   "name": "python3"
  },
  "language_info": {
   "codemirror_mode": {
    "name": "ipython",
    "version": 3
   },
   "file_extension": ".py",
   "mimetype": "text/x-python",
   "name": "python",
   "nbconvert_exporter": "python",
   "pygments_lexer": "ipython3",
   "version": "3.10.12"
  }
 },
 "nbformat": 4,
 "nbformat_minor": 2
}
