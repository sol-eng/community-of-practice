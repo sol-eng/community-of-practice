{
 "cells": [
  {
   "cell_type": "markdown",
   "metadata": {},
   "source": [
    "# Exploratory Data Analysis with Snowflake\n",
    "\n",
    "This example shows easily accessing data stored in Snowflake using credentials already provided in Workbench."
   ]
  },
  {
   "cell_type": "markdown",
   "metadata": {},
   "source": [
    "## Load Packages and Make Snowflake Connection\n",
    "\n",
    "Only the `workbench` \"connection_name\" is needed as Workbench manages the authentication via OAuth the connection as me the user. Using the [Snowflake SQL Connector for Python](https://docs.snowflake.com/en/developer-guide/python-connector/python-connector) package to make the connection to the SQL Warehouses."
   ]
  },
  {
   "cell_type": "code",
   "execution_count": null,
   "metadata": {},
   "outputs": [],
   "source": [
    "import snowflake.connector\n",
    "import pandas as pd\n",
    "import plotly.express as px\n",
    "import nbformat\n",
    "from dotenv import load_dotenv\n",
    "import os\n",
    "\n",
    "load_dotenv()\n",
    "\n",
    "con = snowflake.connector.connect(\n",
    "    connection_name=\"workbench\",\n",
    "    warehouse=\"DEFAULT_WH\",\n",
    "    account=os.getenv(\"SNOWFLAKE_ACCOUNT\"),\n",
    ")"
   ]
  },
  {
   "cell_type": "markdown",
   "metadata": {},
   "source": [
    "## Query Snowflake "
   ]
  },
  {
   "cell_type": "code",
   "execution_count": null,
   "metadata": {},
   "outputs": [],
   "source": [
    "query = \"\"\"\n",
    "    SELECT \n",
    "        AGE,\n",
    "        SEX,\n",
    "        SMOKING,\n",
    "        DEATH_EVENT,\n",
    "        DIABETES,\n",
    "        SERUM_SODIUM,\n",
    "        SERUM_CREATININE\n",
    "    FROM \n",
    "        HEART_FAILURE.PUBLIC.HEART_FAILURE\n",
    "    WHERE \n",
    "        AGE < 50;\n",
    "\"\"\"\n",
    "\n",
    "with con.cursor() as cursor:\n",
    "    cursor.execute(query)\n",
    "    df = cursor.fetch_pandas_all()\n",
    "\n",
    "df.head()"
   ]
  },
  {
   "cell_type": "markdown",
   "metadata": {},
   "source": [
    "## Graph the Results"
   ]
  },
  {
   "cell_type": "code",
   "execution_count": null,
   "metadata": {},
   "outputs": [],
   "source": [
    "fig = px.box(\n",
    "    data_frame=df,\n",
    "    x='DEATH_EVENT',\n",
    "    y='SERUM_SODIUM',\n",
    "    color='DIABETES',\n",
    ")\n",
    "fig.show()"
   ]
  }
 ],
 "metadata": {
  "kernelspec": {
   "display_name": ".venv",
   "language": "python",
   "name": "python3"
  },
  "language_info": {
   "codemirror_mode": {
    "name": "ipython",
    "version": 3
   },
   "file_extension": ".py",
   "mimetype": "text/x-python",
   "name": "python",
   "nbconvert_exporter": "python",
   "pygments_lexer": "ipython3",
   "version": "3.10.12"
  }
 },
 "nbformat": 4,
 "nbformat_minor": 2
}
